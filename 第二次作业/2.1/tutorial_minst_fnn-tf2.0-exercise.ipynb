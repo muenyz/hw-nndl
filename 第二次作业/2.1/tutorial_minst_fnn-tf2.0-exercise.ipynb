{
 "cells": [
  {
   "cell_type": "markdown",
   "metadata": {},
   "source": [
    "## 准备数据"
   ]
  },
  {
   "cell_type": "code",
   "execution_count": 61,
   "metadata": {},
   "outputs": [],
   "source": [
    "import os\n",
    "import numpy as np\n",
    "import tensorflow as tf\n",
    "from tensorflow import keras\n",
    "from tensorflow.keras import layers, optimizers, datasets\n",
    "\n",
    "os.environ['TF_CPP_MIN_LOG_LEVEL'] = '2'  # or any {'0', '1', '2'}\n",
    "\n",
    "def mnist_dataset():\n",
    "    (x, y), (x_test, y_test) = datasets.mnist.load_data()\n",
    "    #normalize\n",
    "    x = x/255.0\n",
    "    x_test = x_test/255.0\n",
    "    \n",
    "    return (x, y), (x_test, y_test)"
   ]
  },
  {
   "cell_type": "code",
   "execution_count": 62,
   "metadata": {},
   "outputs": [
    {
     "name": "stdout",
     "output_type": "stream",
     "text": [
      "[(1, 'a'), (2, 'b'), (3, 'c'), (4, 'd')]\n"
     ]
    }
   ],
   "source": [
    "print(list(zip([1, 2, 3, 4], ['a', 'b', 'c', 'd'])))"
   ]
  },
  {
   "cell_type": "markdown",
   "metadata": {},
   "source": [
    "## 建立模型"
   ]
  },
  {
   "cell_type": "code",
   "execution_count": null,
   "metadata": {},
   "outputs": [],
   "source": [
    "class myModel:\n",
    "    def __init__(self):\n",
    "        ####################\n",
    "        '''声明模型对应的参数'''\n",
    "        self.W1 = tf.Variable(tf.random.normal([784, 256],stddev=0.1))\n",
    "        self.b1 = tf.Variable(tf.zeros([256]))\n",
    "        self.W2 = tf.Variable(tf.random.normal([256, 10],stddev=0.1))\n",
    "        self.b2 = tf.Variable(tf.zeros([10]))\n",
    "        ####################\n",
    "    def __call__(self, x):\n",
    "        ####################\n",
    "        '''实现模型函数体，返回未归一化的logits'''\n",
    "        x=tf.reshape(x, [-1, 784])\n",
    "        x=tf.matmul(x, self.W1) + self.b1\n",
    "        x=tf.nn.relu(x)\n",
    "        logits=tf.matmul(x, self.W2) + self.b2\n",
    "        ####################\n",
    "        return logits\n",
    "        \n",
    "model = myModel()\n",
    "\n",
    "optimizer = optimizers.Adam()"
   ]
  },
  {
   "cell_type": "markdown",
   "metadata": {},
   "source": [
    "## 计算 loss"
   ]
  },
  {
   "cell_type": "code",
   "execution_count": 64,
   "metadata": {},
   "outputs": [],
   "source": [
    "@tf.function\n",
    "def compute_loss(logits, labels):\n",
    "    return tf.reduce_mean(\n",
    "        tf.nn.sparse_softmax_cross_entropy_with_logits(\n",
    "            logits=logits, labels=labels))\n",
    "\n",
    "@tf.function\n",
    "def compute_accuracy(logits, labels):\n",
    "    predictions = tf.argmax(logits, axis=1)\n",
    "    return tf.reduce_mean(tf.cast(tf.equal(predictions, labels), tf.float32))\n",
    "\n",
    "@tf.function\n",
    "def train_one_step(model, optimizer, x, y):\n",
    "    with tf.GradientTape() as tape:\n",
    "        logits = model(x)\n",
    "        loss = compute_loss(logits, y)\n",
    "\n",
    "    # compute gradient\n",
    "    trainable_vars = [model.W1, model.W2, model.b1, model.b2]\n",
    "    grads = tape.gradient(loss, trainable_vars)\n",
    "    for g, v in zip(grads, trainable_vars):\n",
    "        v.assign_sub(0.01*g)\n",
    "\n",
    "    accuracy = compute_accuracy(logits, y)\n",
    "\n",
    "    # loss and accuracy is scalar tensor\n",
    "    return loss, accuracy\n",
    "\n",
    "@tf.function\n",
    "def test(model, x, y):\n",
    "    logits = model(x)\n",
    "    loss = compute_loss(logits, y)\n",
    "    accuracy = compute_accuracy(logits, y)\n",
    "    return loss, accuracy"
   ]
  },
  {
   "cell_type": "markdown",
   "metadata": {},
   "source": [
    "## 实际训练"
   ]
  },
  {
   "cell_type": "code",
   "execution_count": null,
   "metadata": {},
   "outputs": [
    {
     "name": "stdout",
     "output_type": "stream",
     "text": [
      "epoch 0 : loss 2.6985056 ; accuracy 0.115033336\n",
      "epoch 1 : loss 2.6318803 ; accuracy 0.11726667\n",
      "epoch 2 : loss 2.5738416 ; accuracy 0.12013333\n",
      "epoch 3 : loss 2.5224395 ; accuracy 0.12353333\n",
      "epoch 4 : loss 2.476335 ; accuracy 0.12715\n",
      "epoch 5 : loss 2.4345567 ; accuracy 0.13141666\n",
      "epoch 6 : loss 2.3963678 ; accuracy 0.13708334\n",
      "epoch 7 : loss 2.361198 ; accuracy 0.14295\n",
      "epoch 8 : loss 2.3285942 ; accuracy 0.1499\n",
      "epoch 9 : loss 2.298187 ; accuracy 0.15638334\n",
      "epoch 10 : loss 2.269677 ; accuracy 0.16441667\n",
      "epoch 11 : loss 2.2428176 ; accuracy 0.17348333\n",
      "epoch 12 : loss 2.2173984 ; accuracy 0.1822\n",
      "epoch 13 : loss 2.1932447 ; accuracy 0.1908\n",
      "epoch 14 : loss 2.1702065 ; accuracy 0.20036666\n",
      "epoch 15 : loss 2.1481538 ; accuracy 0.21043333\n",
      "epoch 16 : loss 2.126974 ; accuracy 0.22153333\n",
      "epoch 17 : loss 2.1065733 ; accuracy 0.23318334\n",
      "epoch 18 : loss 2.086868 ; accuracy 0.24426667\n",
      "epoch 19 : loss 2.0677862 ; accuracy 0.2543\n",
      "epoch 20 : loss 2.0492651 ; accuracy 0.26546666\n",
      "epoch 21 : loss 2.03125 ; accuracy 0.27678335\n",
      "epoch 22 : loss 2.0136962 ; accuracy 0.2873\n",
      "epoch 23 : loss 1.9965636 ; accuracy 0.29898334\n",
      "epoch 24 : loss 1.979819 ; accuracy 0.30948332\n",
      "epoch 25 : loss 1.963433 ; accuracy 0.32001665\n",
      "epoch 26 : loss 1.9473802 ; accuracy 0.33093333\n",
      "epoch 27 : loss 1.9316392 ; accuracy 0.34146667\n",
      "epoch 28 : loss 1.9161911 ; accuracy 0.35156667\n",
      "epoch 29 : loss 1.9010217 ; accuracy 0.36105\n",
      "epoch 30 : loss 1.8861161 ; accuracy 0.37078333\n",
      "epoch 31 : loss 1.871462 ; accuracy 0.38006666\n",
      "epoch 32 : loss 1.8570479 ; accuracy 0.38858333\n",
      "epoch 33 : loss 1.8428664 ; accuracy 0.39853334\n",
      "epoch 34 : loss 1.82891 ; accuracy 0.40756667\n",
      "epoch 35 : loss 1.815171 ; accuracy 0.41695\n",
      "epoch 36 : loss 1.8016435 ; accuracy 0.42476666\n",
      "epoch 37 : loss 1.7883201 ; accuracy 0.43243334\n",
      "epoch 38 : loss 1.7751958 ; accuracy 0.44023332\n",
      "epoch 39 : loss 1.7622666 ; accuracy 0.44776666\n",
      "epoch 40 : loss 1.7495278 ; accuracy 0.45511666\n",
      "epoch 41 : loss 1.7369756 ; accuracy 0.46295\n",
      "epoch 42 : loss 1.724605 ; accuracy 0.47001666\n",
      "epoch 43 : loss 1.7124121 ; accuracy 0.47665\n",
      "epoch 44 : loss 1.7003951 ; accuracy 0.48275\n",
      "epoch 45 : loss 1.6885505 ; accuracy 0.48878333\n",
      "epoch 46 : loss 1.6768745 ; accuracy 0.49495\n",
      "epoch 47 : loss 1.6653641 ; accuracy 0.50091666\n",
      "epoch 48 : loss 1.6540177 ; accuracy 0.50705\n",
      "epoch 49 : loss 1.6428328 ; accuracy 0.5125833\n",
      "test loss 1.6121196 ; accuracy 0.5308\n"
     ]
    }
   ],
   "source": [
    "train_data, test_data = mnist_dataset()\n",
    "for epoch in range(50):\n",
    "    loss, accuracy = train_one_step(model, optimizer, \n",
    "                                    tf.constant(train_data[0], dtype=tf.float32), \n",
    "                                    tf.constant(train_data[1], dtype=tf.int64))\n",
    "    print('epoch', epoch, ': loss', loss.numpy(), '; accuracy', accuracy.numpy())\n",
    "loss, accuracy = test(model, \n",
    "                      tf.constant(test_data[0], dtype=tf.float32), \n",
    "                      tf.constant(test_data[1], dtype=tf.int64))\n",
    "\n",
    "print('test loss', loss.numpy(), '; accuracy', accuracy.numpy())"
   ]
  }
 ],
 "metadata": {
  "kernelspec": {
   "display_name": "ml",
   "language": "python",
   "name": "python3"
  },
  "language_info": {
   "codemirror_mode": {
    "name": "ipython",
    "version": 3
   },
   "file_extension": ".py",
   "mimetype": "text/x-python",
   "name": "python",
   "nbconvert_exporter": "python",
   "pygments_lexer": "ipython3",
   "version": "3.8.19"
  }
 },
 "nbformat": 4,
 "nbformat_minor": 2
}
